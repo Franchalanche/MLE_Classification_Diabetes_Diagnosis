{
 "cells": [
  {
   "cell_type": "code",
   "execution_count": 1,
   "metadata": {},
   "outputs": [],
   "source": [
    "import pandas as pd\n",
    "import numpy as np\n",
    "import matplotlib.pyplot as plt\n",
    "%matplotlib inline"
   ]
  },
  {
   "cell_type": "code",
   "execution_count": 2,
   "metadata": {},
   "outputs": [],
   "source": [
    "from sklearn import linear_model, neighbors, ensemble\n",
    "from sklearn.model_selection import train_test_split\n",
    "from sklearn.linear_model import LogisticRegression\n",
    "from sklearn.metrics import log_loss, precision_score, recall_score, precision_recall_curve,f1_score, fbeta_score, roc_auc_score, roc_curve\n",
    "from sklearn.neighbors import KNeighborsClassifier\n",
    "from sklearn.tree import DecisionTreeClassifier\n",
    "from sklearn.ensemble import RandomForestClassifier, ExtraTreesClassifier, VotingClassifier,RandomForestRegressor, GradientBoostingRegressor"
   ]
  },
  {
   "cell_type": "markdown",
   "metadata": {},
   "source": [
    "# Import Dataframes"
   ]
  },
  {
   "cell_type": "code",
   "execution_count": 6,
   "metadata": {},
   "outputs": [],
   "source": [
    "diabetic_df = pd.read_csv(\"nondiabetes_vs_diabetes_FE.csv\") # Compares non-diabetic patients to those with full diabetes\n",
    "pre_diabetic_df = pd.read_csv(\"nondiabetes_vs_prediabetes_FE.csv\") #Compares non-diabetic patients to those with pre-diabetes"
   ]
  },
  {
   "cell_type": "markdown",
   "metadata": {},
   "source": [
    "### Column Overviews"
   ]
  },
  {
   "cell_type": "code",
   "execution_count": 7,
   "metadata": {},
   "outputs": [
    {
     "data": {
      "text/plain": [
       "Index(['Diabetes_02', 'BMI', 'Smoker', 'Stroke', 'HeartDiseaseorAttack',\n",
       "       'HvyAlcoholConsump', 'GenHlth', 'MentHlth', 'PhysHlth', 'Sex', 'Age',\n",
       "       'PhysActDiffWalk', 'AnyHCNoDocCostCholCheck', 'FruitsVeggies',\n",
       "       'HighBPChol', 'EducIncome'],\n",
       "      dtype='object')"
      ]
     },
     "execution_count": 7,
     "metadata": {},
     "output_type": "execute_result"
    }
   ],
   "source": [
    "diabetic_df.columns"
   ]
  },
  {
   "cell_type": "code",
   "execution_count": 8,
   "metadata": {},
   "outputs": [
    {
     "data": {
      "text/plain": [
       "Index(['Diabetes_01', 'BMI', 'Smoker', 'Stroke', 'HeartDiseaseorAttack',\n",
       "       'HvyAlcoholConsump', 'GenHlth', 'MentHlth', 'PhysHlth', 'Sex', 'Age',\n",
       "       'PhysActDiffWalk', 'AnyHCNoDocCostCholCheck', 'FruitsVeggies',\n",
       "       'HighBPChol', 'EducIncome'],\n",
       "      dtype='object')"
      ]
     },
     "execution_count": 8,
     "metadata": {},
     "output_type": "execute_result"
    }
   ],
   "source": [
    "pre_diabetic_df.columns "
   ]
  },
  {
   "cell_type": "markdown",
   "metadata": {},
   "source": [
    "### Target & feature column differentiations for the 2 dfs (prediabetic & full)"
   ]
  },
  {
   "cell_type": "code",
   "execution_count": 9,
   "metadata": {},
   "outputs": [],
   "source": [
    "yf = diabetic_df[\"Diabetes_02\"]\n",
    "Xf = diabetic_df.drop(columns=[\"Diabetes_02\"])\n",
    "yp = pre_diabetic_df[\"Diabetes_01\"]\n",
    "Xp = pre_diabetic_df.drop(columns=[\"Diabetes_01\"])"
   ]
  },
  {
   "cell_type": "markdown",
   "metadata": {},
   "source": [
    "# Model Creation"
   ]
  },
  {
   "cell_type": "markdown",
   "metadata": {},
   "source": [
    "#### Full vs non-diab models"
   ]
  },
  {
   "cell_type": "code",
   "execution_count": 10,
   "metadata": {},
   "outputs": [],
   "source": [
    "knn_f = KNeighborsClassifier()\n",
    "dt_f = DecisionTreeClassifier()\n",
    "lr_f = LogisticRegression(C=1000)\n",
    "rf_f = RandomForestClassifier()\n",
    "rf_ens_f = ensemble.RandomForestClassifier(n_estimators=100, random_state=1)\n",
    "et_f = ensemble.ExtraTreesClassifier(n_estimators=100, random_state=1)"
   ]
  },
  {
   "cell_type": "markdown",
   "metadata": {},
   "source": [
    "#### Pre- vs non-diab models"
   ]
  },
  {
   "cell_type": "code",
   "execution_count": 11,
   "metadata": {},
   "outputs": [],
   "source": [
    "knn_p = KNeighborsClassifier()\n",
    "dt_p = DecisionTreeClassifier()\n",
    "lr_p = LogisticRegression(C=1000)\n",
    "rf_p = RandomForestClassifier()\n",
    "rf_ens_p = ensemble.RandomForestClassifier(n_estimators=100, random_state=1)\n",
    "et_p = ensemble.ExtraTreesClassifier(n_estimators=100, random_state=1)"
   ]
  },
  {
   "cell_type": "markdown",
   "metadata": {},
   "source": [
    "### Training & Testing Subset Creation"
   ]
  },
  {
   "cell_type": "code",
   "execution_count": 12,
   "metadata": {},
   "outputs": [],
   "source": [
    "Xf_train, Xf_test, yf_train, yf_test = train_test_split(Xf,yf,test_size=.3,random_state=42)\n",
    "Xp_train, Xp_test, yp_train, yp_test = train_test_split(Xp,yp,test_size=.3,random_state=42)"
   ]
  },
  {
   "cell_type": "markdown",
   "metadata": {},
   "source": [
    "### Scale training data"
   ]
  },
  {
   "cell_type": "code",
   "execution_count": 13,
   "metadata": {},
   "outputs": [],
   "source": [
    "from sklearn.preprocessing import StandardScaler\n",
    "std = StandardScaler()"
   ]
  },
  {
   "cell_type": "code",
   "execution_count": 14,
   "metadata": {},
   "outputs": [],
   "source": [
    "std.fit(Xf_train.values)\n",
    "Xf_train_tr = std.transform(Xf_train.values)"
   ]
  },
  {
   "cell_type": "code",
   "execution_count": 15,
   "metadata": {},
   "outputs": [],
   "source": [
    "std.fit(Xp_train.values)\n",
    "Xp_train_tr = std.transform(Xp_train.values)"
   ]
  },
  {
   "cell_type": "code",
   "execution_count": null,
   "metadata": {},
   "outputs": [],
   "source": []
  },
  {
   "cell_type": "markdown",
   "metadata": {},
   "source": [
    "### GridSearchCV Parameters"
   ]
  },
  {
   "cell_type": "code",
   "execution_count": 17,
   "metadata": {},
   "outputs": [],
   "source": [
    "from sklearn.pipeline import Pipeline\n",
    "from imblearn.pipeline import Pipeline\n",
    "from imblearn.under_sampling import RandomUnderSampler"
   ]
  },
  {
   "cell_type": "code",
   "execution_count": 18,
   "metadata": {},
   "outputs": [],
   "source": [
    "###full diabetes rf & et, prediabetes dt"
   ]
  },
  {
   "cell_type": "code",
   "execution_count": 25,
   "metadata": {},
   "outputs": [],
   "source": [
    "from sklearn.model_selection import GridSearchCV"
   ]
  },
  {
   "cell_type": "code",
   "execution_count": 28,
   "metadata": {},
   "outputs": [],
   "source": [
    "#params1={\"n_neighbors\": range(0,150,25), \"weights\": weight_types}\n",
    "#params2= {'C': np.logspace(-3,3,7),'class_weight':[{0:1,1:1},{0:2,1:1},{0:3,1:1},{0:4,1:1}]}\n",
    "params2={\"max_depth\": range(5,20,5), \"min_samples_leaf\": range(1,15,5), \n",
    "         \"n_estimators\":[200,500],'class_weight':[{0:1,1:1},{0:2,1:1},{0:3,1:1},{0:4,1:1}]}\n",
    "params3={\"max_features\": range(1,14,1), \"min_samples_leaf\": range(1,15,5)}"
   ]
  },
  {
   "cell_type": "code",
   "execution_count": 29,
   "metadata": {},
   "outputs": [],
   "source": [
    "model_scoring_list = [(rf_ens_f,params2,\"rf_ens_f\",Xf_train_tr,yf_train),(et_f,params2,\"et_f\",Xf_train_tr,yf_train),\n",
    "                 (dt_p,params3,\"dt_p\",Xp_train_tr,yp_train)]"
   ]
  },
  {
   "cell_type": "code",
   "execution_count": 30,
   "metadata": {},
   "outputs": [
    {
     "name": "stderr",
     "output_type": "stream",
     "text": [
      "C:\\Users\\Francesca P\\anaconda3\\lib\\site-packages\\imblearn\\utils\\_validation.py:635: FutureWarning: Pass sampling_strategy=0.2 as keyword args. From version 0.9 passing these as positional arguments will result in an error\n",
      "  warnings.warn(\"Pass {} as keyword args. From version 0.9 \"\n"
     ]
    },
    {
     "name": "stdout",
     "output_type": "stream",
     "text": [
      "Fitting 2 folds for each of 72 candidates, totalling 144 fits\n"
     ]
    },
    {
     "name": "stderr",
     "output_type": "stream",
     "text": [
      "C:\\Users\\Francesca P\\anaconda3\\lib\\site-packages\\imblearn\\utils\\_validation.py:635: FutureWarning: Pass sampling_strategy=0.2 as keyword args. From version 0.9 passing these as positional arguments will result in an error\n",
      "  warnings.warn(\"Pass {} as keyword args. From version 0.9 \"\n"
     ]
    },
    {
     "name": "stdout",
     "output_type": "stream",
     "text": [
      "Fitting 2 folds for each of 72 candidates, totalling 144 fits\n"
     ]
    },
    {
     "name": "stderr",
     "output_type": "stream",
     "text": [
      "C:\\Users\\Francesca P\\anaconda3\\lib\\site-packages\\imblearn\\utils\\_validation.py:635: FutureWarning: Pass sampling_strategy=0.2 as keyword args. From version 0.9 passing these as positional arguments will result in an error\n",
      "  warnings.warn(\"Pass {} as keyword args. From version 0.9 \"\n"
     ]
    },
    {
     "name": "stdout",
     "output_type": "stream",
     "text": [
      "Fitting 2 folds for each of 39 candidates, totalling 78 fits\n"
     ]
    }
   ],
   "source": [
    "for each_model in model_scoring_list:\n",
    "    model_name, parameter_list, model_log,curr_x_train,curr_y_train = each_model\n",
    "    Grid=GridSearchCV(estimator=eval(model_log), param_grid=parameter_list, \n",
    "                      scoring='roc_auc',\n",
    "                      n_jobs=-1, cv=2, verbose=3)\n",
    "    model = Pipeline([\n",
    "        ('sampling', RandomUnderSampler(.2)), # positive ratio of .2 up from 0.0016\n",
    "        ('classification', Grid)\n",
    "    ]).fit(curr_x_train,curr_y_train)\n",
    "\n",
    "    \n",
    "    globals()['Grid%s' % model_log]=pd.DataFrame(Grid.cv_results_)  "
   ]
  },
  {
   "cell_type": "code",
   "execution_count": 33,
   "metadata": {},
   "outputs": [
    {
     "ename": "NameError",
     "evalue": "name 'Grid_dt_p' is not defined",
     "output_type": "error",
     "traceback": [
      "\u001b[1;31m---------------------------------------------------------------------------\u001b[0m",
      "\u001b[1;31mNameError\u001b[0m                                 Traceback (most recent call last)",
      "\u001b[1;32mC:\\Users\\FRANCE~1\\AppData\\Local\\Temp/ipykernel_23340/1650969465.py\u001b[0m in \u001b[0;36m<module>\u001b[1;34m\u001b[0m\n\u001b[1;32m----> 1\u001b[1;33m \u001b[0mGrid_dt_p\u001b[0m\u001b[1;33m.\u001b[0m\u001b[0msort_values\u001b[0m\u001b[1;33m(\u001b[0m\u001b[0mby\u001b[0m\u001b[1;33m=\u001b[0m\u001b[1;34m'mean_test_score'\u001b[0m\u001b[1;33m)\u001b[0m\u001b[1;33m.\u001b[0m\u001b[0mloc\u001b[0m\u001b[1;33m[\u001b[0m\u001b[1;36m0\u001b[0m\u001b[1;33m:\u001b[0m\u001b[1;36m2\u001b[0m\u001b[1;33m]\u001b[0m\u001b[1;33m\u001b[0m\u001b[1;33m\u001b[0m\u001b[0m\n\u001b[0m",
      "\u001b[1;31mNameError\u001b[0m: name 'Grid_dt_p' is not defined"
     ]
    }
   ],
   "source": [
    "Grid_dt_p.sort_values(by='mean_test_score').loc[0:2]"
   ]
  },
  {
   "cell_type": "code",
   "execution_count": 37,
   "metadata": {},
   "outputs": [],
   "source": [
    "from sklearn.ensemble import ExtraTreesClassifier, VotingClassifier, StackingClassifier"
   ]
  },
  {
   "cell_type": "code",
   "execution_count": null,
   "metadata": {},
   "outputs": [],
   "source": [
    "#(dt_p,params3,\"dt_p\",Xp_train_tr,yp_train)\n",
    "#,(\"dt_p\",dt_p)"
   ]
  },
  {
   "cell_type": "code",
   "execution_count": 35,
   "metadata": {},
   "outputs": [],
   "source": [
    "model_list = [(\"rf_ens_f\",rf_ens_f),(\"et_f\",et_f)]"
   ]
  },
  {
   "cell_type": "code",
   "execution_count": null,
   "metadata": {},
   "outputs": [],
   "source": [
    "model_scoring_list_2 = [(rf_ens_f,params2,\"rf_ens_f\",Xf_train_tr,yf_train),(et_f,params2,\"et_f\",Xf_train_tr,yf_train)]"
   ]
  },
  {
   "cell_type": "code",
   "execution_count": 38,
   "metadata": {},
   "outputs": [
    {
     "data": {
      "text/plain": [
       "0.497327584593781"
      ]
     },
     "execution_count": 38,
     "metadata": {},
     "output_type": "execute_result"
    }
   ],
   "source": [
    "stacked = StackingClassifier(model_list, final_estimator=ensemble.RandomForestClassifier(),n_jobs=-1)\n",
    "\n",
    "stacked.fit(Xf_train_tr, yf_train)\n",
    "probas=stacked.predict_proba(Xf_test)[:,1]\n",
    "roc_auc_score(yf_test,probas)"
   ]
  },
  {
   "cell_type": "code",
   "execution_count": 39,
   "metadata": {},
   "outputs": [],
   "source": [
    "from sklearn.metrics import precision_recall_curve, confusion_matrix\n",
    "import matplotlib.pyplot as plt"
   ]
  },
  {
   "cell_type": "code",
   "execution_count": 40,
   "metadata": {},
   "outputs": [
    {
     "data": {
      "image/png": "[encoded data removed]",
      "text/plain": [
       "<Figure size 480x320 with 1 Axes>"
      ]
     },
     "metadata": {
      "needs_background": "light"
     },
     "output_type": "display_data"
    }
   ],
   "source": [
    "precision_curve, recall_curve, threshold_curve = precision_recall_curve(yf_test, stacked.predict_proba(Xf_test)[:,1] )\n",
    "\n",
    "plt.figure(dpi=80)\n",
    "plt.plot(threshold_curve, precision_curve[1:],label='precision')\n",
    "plt.plot(threshold_curve, recall_curve[1:], label='recall')\n",
    "plt.legend(loc='lower left')\n",
    "plt.xlabel('Threshold (above this probability, label as fraud)');\n",
    "plt.title('Precision and Recall Curves');"
   ]
  },
  {
   "cell_type": "code",
   "execution_count": 42,
   "metadata": {},
   "outputs": [
    {
     "name": "stdout",
     "output_type": "stream",
     "text": [
      "stacked confusion matrix: \n",
      "\n",
      " [[ 1783 62205]\n",
      " [  401 10326]]\n"
     ]
    }
   ],
   "source": [
    "probas_threshold = stacked.predict_proba(Xf_test)[:, 1] >= .05\n",
    "print(\"stacked confusion matrix: \\n\\n\", confusion_matrix(yf_test, probas_threshold))"
   ]
  },
  {
   "cell_type": "code",
   "execution_count": null,
   "metadata": {},
   "outputs": [],
   "source": []
  },
  {
   "cell_type": "code",
   "execution_count": null,
   "metadata": {},
   "outputs": [],
   "source": [
    "### Check coefficients. Refit data outside above loops"
   ]
  },
  {
   "cell_type": "code",
   "execution_count": 44,
   "metadata": {},
   "outputs": [
    {
     "data": {
      "text/plain": [
       "RandomForestClassifier(random_state=1)"
      ]
     },
     "execution_count": 44,
     "metadata": {},
     "output_type": "execute_result"
    }
   ],
   "source": [
    "rf_ens_f.fit(Xf_train_tr,yf_train)"
   ]
  },
  {
   "cell_type": "code",
   "execution_count": 45,
   "metadata": {},
   "outputs": [
    {
     "data": {
      "text/html": [
       "<div>\n",
       "<style scoped>\n",
       "    .dataframe tbody tr th:only-of-type {\n",
       "        vertical-align: middle;\n",
       "    }\n",
       "\n",
       "    .dataframe tbody tr th {\n",
       "        vertical-align: top;\n",
       "    }\n",
       "\n",
       "    .dataframe thead th {\n",
       "        text-align: right;\n",
       "    }\n",
       "</style>\n",
       "<table border=\"1\" class=\"dataframe\">\n",
       "  <thead>\n",
       "    <tr style=\"text-align: right;\">\n",
       "      <th></th>\n",
       "      <th>feats</th>\n",
       "      <th>importances</th>\n",
       "    </tr>\n",
       "  </thead>\n",
       "  <tbody>\n",
       "    <tr>\n",
       "      <th>4</th>\n",
       "      <td>HvyAlcoholConsump</td>\n",
       "      <td>0.007966</td>\n",
       "    </tr>\n",
       "    <tr>\n",
       "      <th>2</th>\n",
       "      <td>Stroke</td>\n",
       "      <td>0.011727</td>\n",
       "    </tr>\n",
       "    <tr>\n",
       "      <th>3</th>\n",
       "      <td>HeartDiseaseorAttack</td>\n",
       "      <td>0.020556</td>\n",
       "    </tr>\n",
       "    <tr>\n",
       "      <th>11</th>\n",
       "      <td>AnyHCNoDocCostCholCheck</td>\n",
       "      <td>0.023363</td>\n",
       "    </tr>\n",
       "    <tr>\n",
       "      <th>8</th>\n",
       "      <td>Sex</td>\n",
       "      <td>0.027626</td>\n",
       "    </tr>\n",
       "    <tr>\n",
       "      <th>1</th>\n",
       "      <td>Smoker</td>\n",
       "      <td>0.031624</td>\n",
       "    </tr>\n",
       "    <tr>\n",
       "      <th>10</th>\n",
       "      <td>PhysActDiffWalk</td>\n",
       "      <td>0.042373</td>\n",
       "    </tr>\n",
       "    <tr>\n",
       "      <th>12</th>\n",
       "      <td>FruitsVeggies</td>\n",
       "      <td>0.052291</td>\n",
       "    </tr>\n",
       "    <tr>\n",
       "      <th>13</th>\n",
       "      <td>HighBPChol</td>\n",
       "      <td>0.068081</td>\n",
       "    </tr>\n",
       "    <tr>\n",
       "      <th>6</th>\n",
       "      <td>MentHlth</td>\n",
       "      <td>0.069262</td>\n",
       "    </tr>\n",
       "    <tr>\n",
       "      <th>5</th>\n",
       "      <td>GenHlth</td>\n",
       "      <td>0.077901</td>\n",
       "    </tr>\n",
       "    <tr>\n",
       "      <th>7</th>\n",
       "      <td>PhysHlth</td>\n",
       "      <td>0.091974</td>\n",
       "    </tr>\n",
       "    <tr>\n",
       "      <th>9</th>\n",
       "      <td>Age</td>\n",
       "      <td>0.133986</td>\n",
       "    </tr>\n",
       "    <tr>\n",
       "      <th>14</th>\n",
       "      <td>EducIncome</td>\n",
       "      <td>0.137511</td>\n",
       "    </tr>\n",
       "    <tr>\n",
       "      <th>0</th>\n",
       "      <td>BMI</td>\n",
       "      <td>0.203758</td>\n",
       "    </tr>\n",
       "  </tbody>\n",
       "</table>\n",
       "</div>"
      ],
      "text/plain": [
       "                      feats  importances\n",
       "4         HvyAlcoholConsump     0.007966\n",
       "2                    Stroke     0.011727\n",
       "3      HeartDiseaseorAttack     0.020556\n",
       "11  AnyHCNoDocCostCholCheck     0.023363\n",
       "8                       Sex     0.027626\n",
       "1                    Smoker     0.031624\n",
       "10          PhysActDiffWalk     0.042373\n",
       "12            FruitsVeggies     0.052291\n",
       "13               HighBPChol     0.068081\n",
       "6                  MentHlth     0.069262\n",
       "5                   GenHlth     0.077901\n",
       "7                  PhysHlth     0.091974\n",
       "9                       Age     0.133986\n",
       "14               EducIncome     0.137511\n",
       "0                       BMI     0.203758"
      ]
     },
     "execution_count": 45,
     "metadata": {},
     "output_type": "execute_result"
    }
   ],
   "source": [
    "feature_df=pd.DataFrame({'feats':Xf_train.columns,'importances':rf_ens_f.feature_importances_})\n"
   ]
  },
  {
   "cell_type": "code",
   "execution_count": 48,
   "metadata": {},
   "outputs": [
    {
     "data": {
      "text/html": [
       "<div>\n",
       "<style scoped>\n",
       "    .dataframe tbody tr th:only-of-type {\n",
       "        vertical-align: middle;\n",
       "    }\n",
       "\n",
       "    .dataframe tbody tr th {\n",
       "        vertical-align: top;\n",
       "    }\n",
       "\n",
       "    .dataframe thead th {\n",
       "        text-align: right;\n",
       "    }\n",
       "</style>\n",
       "<table border=\"1\" class=\"dataframe\">\n",
       "  <thead>\n",
       "    <tr style=\"text-align: right;\">\n",
       "      <th></th>\n",
       "      <th>feats</th>\n",
       "      <th>importances</th>\n",
       "    </tr>\n",
       "  </thead>\n",
       "  <tbody>\n",
       "    <tr>\n",
       "      <th>0</th>\n",
       "      <td>BMI</td>\n",
       "      <td>0.203758</td>\n",
       "    </tr>\n",
       "    <tr>\n",
       "      <th>14</th>\n",
       "      <td>EducIncome</td>\n",
       "      <td>0.137511</td>\n",
       "    </tr>\n",
       "    <tr>\n",
       "      <th>9</th>\n",
       "      <td>Age</td>\n",
       "      <td>0.133986</td>\n",
       "    </tr>\n",
       "    <tr>\n",
       "      <th>7</th>\n",
       "      <td>PhysHlth</td>\n",
       "      <td>0.091974</td>\n",
       "    </tr>\n",
       "    <tr>\n",
       "      <th>5</th>\n",
       "      <td>GenHlth</td>\n",
       "      <td>0.077901</td>\n",
       "    </tr>\n",
       "    <tr>\n",
       "      <th>6</th>\n",
       "      <td>MentHlth</td>\n",
       "      <td>0.069262</td>\n",
       "    </tr>\n",
       "    <tr>\n",
       "      <th>13</th>\n",
       "      <td>HighBPChol</td>\n",
       "      <td>0.068081</td>\n",
       "    </tr>\n",
       "    <tr>\n",
       "      <th>12</th>\n",
       "      <td>FruitsVeggies</td>\n",
       "      <td>0.052291</td>\n",
       "    </tr>\n",
       "    <tr>\n",
       "      <th>10</th>\n",
       "      <td>PhysActDiffWalk</td>\n",
       "      <td>0.042373</td>\n",
       "    </tr>\n",
       "    <tr>\n",
       "      <th>1</th>\n",
       "      <td>Smoker</td>\n",
       "      <td>0.031624</td>\n",
       "    </tr>\n",
       "    <tr>\n",
       "      <th>8</th>\n",
       "      <td>Sex</td>\n",
       "      <td>0.027626</td>\n",
       "    </tr>\n",
       "    <tr>\n",
       "      <th>11</th>\n",
       "      <td>AnyHCNoDocCostCholCheck</td>\n",
       "      <td>0.023363</td>\n",
       "    </tr>\n",
       "    <tr>\n",
       "      <th>3</th>\n",
       "      <td>HeartDiseaseorAttack</td>\n",
       "      <td>0.020556</td>\n",
       "    </tr>\n",
       "    <tr>\n",
       "      <th>2</th>\n",
       "      <td>Stroke</td>\n",
       "      <td>0.011727</td>\n",
       "    </tr>\n",
       "    <tr>\n",
       "      <th>4</th>\n",
       "      <td>HvyAlcoholConsump</td>\n",
       "      <td>0.007966</td>\n",
       "    </tr>\n",
       "  </tbody>\n",
       "</table>\n",
       "</div>"
      ],
      "text/plain": [
       "                      feats  importances\n",
       "0                       BMI     0.203758\n",
       "14               EducIncome     0.137511\n",
       "9                       Age     0.133986\n",
       "7                  PhysHlth     0.091974\n",
       "5                   GenHlth     0.077901\n",
       "6                  MentHlth     0.069262\n",
       "13               HighBPChol     0.068081\n",
       "12            FruitsVeggies     0.052291\n",
       "10          PhysActDiffWalk     0.042373\n",
       "1                    Smoker     0.031624\n",
       "8                       Sex     0.027626\n",
       "11  AnyHCNoDocCostCholCheck     0.023363\n",
       "3      HeartDiseaseorAttack     0.020556\n",
       "2                    Stroke     0.011727\n",
       "4         HvyAlcoholConsump     0.007966"
      ]
     },
     "execution_count": 48,
     "metadata": {},
     "output_type": "execute_result"
    }
   ],
   "source": [
    "feature_df.sort_values(by='importances',ascending=True)"
   ]
  },
  {
   "cell_type": "code",
   "execution_count": null,
   "metadata": {},
   "outputs": [],
   "source": []
  },
  {
   "cell_type": "markdown",
   "metadata": {},
   "source": [
    "### Fit models to scaled, oversampled training data"
   ]
  },
  {
   "cell_type": "code",
   "execution_count": 52,
   "metadata": {},
   "outputs": [
    {
     "data": {
      "text/plain": [
       "ExtraTreesClassifier(random_state=1)"
      ]
     },
     "execution_count": 52,
     "metadata": {},
     "output_type": "execute_result"
    }
   ],
   "source": [
    "knn_f.fit(Xf_train_tr,yf_train)\n",
    "dt_f.fit(Xf_train_tr,yf_train)\n",
    "lr_f.fit(Xf_train_tr,yf_train)\n",
    "rf_f.fit(Xf_train_tr,yf_train)\n",
    "rf_ens_f.fit(Xf_train_tr,yf_train)\n",
    "et_f.fit(Xf_train_tr,yf_train)"
   ]
  },
  {
   "cell_type": "code",
   "execution_count": 53,
   "metadata": {},
   "outputs": [
    {
     "data": {
      "text/plain": [
       "ExtraTreesClassifier(random_state=1)"
      ]
     },
     "execution_count": 53,
     "metadata": {},
     "output_type": "execute_result"
    }
   ],
   "source": [
    "knn_p.fit(Xp_train_tr,yp_train)\n",
    "dt_p.fit(Xp_train_tr,yp_train)\n",
    "lr_p.fit(Xp_train_tr,yp_train)\n",
    "rf_p.fit(Xp_train_tr,yp_train)\n",
    "rf_ens_p.fit(Xp_train_tr,yp_train)\n",
    "et_p.fit(Xp_train_tr,yp_train)"
   ]
  },
  {
   "cell_type": "markdown",
   "metadata": {},
   "source": [
    "# Scoring Metrics"
   ]
  },
  {
   "cell_type": "markdown",
   "metadata": {},
   "source": [
    "## Accuracy, Precision & Recall"
   ]
  },
  {
   "cell_type": "markdown",
   "metadata": {},
   "source": [
    "#### Scoring Predictions for Full vs Non-Diab DF"
   ]
  },
  {
   "cell_type": "code",
   "execution_count": 22,
   "metadata": {},
   "outputs": [],
   "source": [
    "yf_knn_predict = knn_f.predict(Xf_test)\n",
    "yf_dt_predict = dt_f.predict(Xf_test)\n",
    "yf_lr_predict = lr_f.predict(Xf_test)\n",
    "yf_rf_predict = rf_f.predict(Xf_test)\n",
    "yf_rf_ens_predict = rf_ens_f.predict(Xf_test)\n",
    "yf_et_predict = et_f.predict(Xf_test)"
   ]
  },
  {
   "cell_type": "markdown",
   "metadata": {},
   "source": [
    "#### Scoring Predictions for Pre- vs Non-Diab DF"
   ]
  },
  {
   "cell_type": "code",
   "execution_count": 23,
   "metadata": {},
   "outputs": [],
   "source": [
    "yp_knn_predict = knn_p.predict(Xp_test)\n",
    "yp_dt_predict = dt_p.predict(Xp_test)\n",
    "yp_lr_predict = lr_p.predict(Xp_test)\n",
    "yp_rf_predict = rf_p.predict(Xp_test)\n",
    "yp_rf_ens_predict = rf_ens_p.predict(Xp_test)\n",
    "yp_et_predict = et_p.predict(Xp_test)"
   ]
  },
  {
   "cell_type": "markdown",
   "metadata": {},
   "source": [
    "### Scoring Metric Function"
   ]
  },
  {
   "cell_type": "code",
   "execution_count": 24,
   "metadata": {},
   "outputs": [],
   "source": [
    "def quick_scoring(model_list):\n",
    "    for model in model_list:\n",
    "        curr_name, curr_type, curr_model,curr_prediction,curr_x_train,curr_y_train,curr_x_test,curr_y_test = model\n",
    "        curr_model.fit(curr_x_train,curr_y_train)\n",
    "        print(\"Default threshold for \",curr_type,\"Diabetes\",curr_name,\":\")\n",
    "        print(\"Accuracy: {:6.4f}, Precision: {:6.4f},   Recall: {:6.4f},   F1 Score: {:6.4f},   F2 Score: {:6.4f}\".format(curr_model.score(curr_x_test,curr_y_test),\n",
    "                                                     precision_score(curr_y_test, curr_prediction, average='macro'), \n",
    "                                                     recall_score(curr_y_test, curr_prediction, average='macro'),\n",
    "                                                     f1_score(curr_y_test, curr_prediction, average='macro'),\n",
    "                                                     fbeta_score(curr_y_test, curr_prediction, 2, average='macro')))"
   ]
  },
  {
   "cell_type": "markdown",
   "metadata": {},
   "source": [
    "#### Model list"
   ]
  },
  {
   "cell_type": "code",
   "execution_count": 25,
   "metadata": {},
   "outputs": [],
   "source": [
    "# Format is (model_type, DF_identifier, model_name, prediction, x_train, y_train, x_test,y_test)"
   ]
  },
  {
   "cell_type": "code",
   "execution_count": 26,
   "metadata": {},
   "outputs": [],
   "source": [
    "model_scoring_list=[(\"knn\",\"Full\",knn_f,yf_knn_predict,Xf_train_tr,yf_train,Xf_test,yf_test),\n",
    "                   (\"dt\",\"Full\",dt_f,yf_dt_predict,Xf_train_tr,yf_train,Xf_test,yf_test),\n",
    "                   (\"lr\",\"Full\",lr_f,yf_lr_predict,Xf_train_tr,yf_train,Xf_test,yf_test),\n",
    "                   (\"rf\",\"Full\",rf_f,yf_rf_predict,Xf_train_tr,yf_train,Xf_test,yf_test),\n",
    "                   (\"rf_ens\",\"Full\",rf_ens_f,yf_rf_ens_predict,Xf_train_tr,yf_train,Xf_test,yf_test),\n",
    "                   (\"et\",\"Full\",et_f,yf_et_predict,Xf_train_tr,yf_train,Xf_test,yf_test),\n",
    "                   (\"knn\",\"Pre-\",knn_p,yp_knn_predict,Xp_train_tr,yp_train,Xp_test,yp_test),\n",
    "                   (\"dt\",\"Pre-\",dt_p,yp_dt_predict,Xp_train_tr,yp_train,Xp_test,yp_test),\n",
    "                   (\"lr\",\"Pre-\",lr_p,yp_lr_predict,Xp_train_tr,yp_train,Xp_test,yp_test),\n",
    "                   (\"rf\",\"Pre-\",rf_p,yp_rf_predict,Xp_train_tr,yp_train,Xp_test,yp_test),\n",
    "                   (\"rf_ens\",\"Pre-\",rf_ens_p,yp_rf_ens_predict,Xp_train_tr,yp_train,Xp_test,yp_test),\n",
    "                   (\"et\",\"Pre-\",et_p,yp_et_predict,Xp_train_tr,yp_train,Xp_test,yp_test)]"
   ]
  },
  {
   "cell_type": "markdown",
   "metadata": {},
   "source": [
    "#### Function Results"
   ]
  },
  {
   "cell_type": "code",
   "execution_count": 27,
   "metadata": {},
   "outputs": [
    {
     "name": "stdout",
     "output_type": "stream",
     "text": [
      "Default threshold for  Full Diabetes knn :\n"
     ]
    },
    {
     "name": "stderr",
     "output_type": "stream",
     "text": [
      "C:\\Users\\Francesca P\\anaconda3\\lib\\site-packages\\sklearn\\utils\\validation.py:70: FutureWarning: Pass beta=2 as keyword args. From version 1.0 (renaming of 0.25) passing these as positional arguments will result in an error\n",
      "  warnings.warn(f\"Pass {args_msg} as keyword args. From version \"\n"
     ]
    },
    {
     "name": "stdout",
     "output_type": "stream",
     "text": [
      "Accuracy: 0.8065, Precision: 0.5521,   Recall: 0.5365,   F1 Score: 0.5399,   F2 Score: 0.5371\n",
      "Default threshold for  Full Diabetes dt :\n",
      "Accuracy: 0.4030, Precision: 0.4306,   Recall: 0.3650,   F1 Score: 0.3157,   F2 Score: 0.3136\n"
     ]
    },
    {
     "name": "stderr",
     "output_type": "stream",
     "text": [
      "C:\\Users\\Francesca P\\anaconda3\\lib\\site-packages\\sklearn\\utils\\validation.py:70: FutureWarning: Pass beta=2 as keyword args. From version 1.0 (renaming of 0.25) passing these as positional arguments will result in an error\n",
      "  warnings.warn(f\"Pass {args_msg} as keyword args. From version \"\n"
     ]
    },
    {
     "name": "stdout",
     "output_type": "stream",
     "text": [
      "Default threshold for  Full Diabetes lr :\n",
      "Accuracy: 0.1436, Precision: 0.0718,   Recall: 0.5000,   F1 Score: 0.1255,   F2 Score: 0.2280\n"
     ]
    },
    {
     "name": "stderr",
     "output_type": "stream",
     "text": [
      "C:\\Users\\Francesca P\\anaconda3\\lib\\site-packages\\sklearn\\metrics\\_classification.py:1248: UndefinedMetricWarning: Precision is ill-defined and being set to 0.0 in labels with no predicted samples. Use `zero_division` parameter to control this behavior.\n",
      "  _warn_prf(average, modifier, msg_start, len(result))\n",
      "C:\\Users\\Francesca P\\anaconda3\\lib\\site-packages\\sklearn\\utils\\validation.py:70: FutureWarning: Pass beta=2 as keyword args. From version 1.0 (renaming of 0.25) passing these as positional arguments will result in an error\n",
      "  warnings.warn(f\"Pass {args_msg} as keyword args. From version \"\n"
     ]
    },
    {
     "name": "stdout",
     "output_type": "stream",
     "text": [
      "Default threshold for  Full Diabetes rf :\n"
     ]
    },
    {
     "name": "stderr",
     "output_type": "stream",
     "text": [
      "C:\\Users\\Francesca P\\anaconda3\\lib\\site-packages\\sklearn\\utils\\validation.py:70: FutureWarning: Pass beta=2 as keyword args. From version 1.0 (renaming of 0.25) passing these as positional arguments will result in an error\n",
      "  warnings.warn(f\"Pass {args_msg} as keyword args. From version \"\n"
     ]
    },
    {
     "name": "stdout",
     "output_type": "stream",
     "text": [
      "Accuracy: 0.7492, Precision: 0.5586,   Recall: 0.6167,   F1 Score: 0.5207,   F2 Score: 0.5491\n",
      "Default threshold for  Full Diabetes rf_ens :\n"
     ]
    },
    {
     "name": "stderr",
     "output_type": "stream",
     "text": [
      "C:\\Users\\Francesca P\\anaconda3\\lib\\site-packages\\sklearn\\utils\\validation.py:70: FutureWarning: Pass beta=2 as keyword args. From version 1.0 (renaming of 0.25) passing these as positional arguments will result in an error\n",
      "  warnings.warn(f\"Pass {args_msg} as keyword args. From version \"\n"
     ]
    },
    {
     "name": "stdout",
     "output_type": "stream",
     "text": [
      "Accuracy: 0.6610, Precision: 0.5548,   Recall: 0.6006,   F1 Score: 0.5400,   F2 Score: 0.5612\n",
      "Default threshold for  Full Diabetes et :\n"
     ]
    },
    {
     "name": "stderr",
     "output_type": "stream",
     "text": [
      "C:\\Users\\Francesca P\\anaconda3\\lib\\site-packages\\sklearn\\utils\\validation.py:70: FutureWarning: Pass beta=2 as keyword args. From version 1.0 (renaming of 0.25) passing these as positional arguments will result in an error\n",
      "  warnings.warn(f\"Pass {args_msg} as keyword args. From version \"\n"
     ]
    },
    {
     "name": "stdout",
     "output_type": "stream",
     "text": [
      "Accuracy: 0.6876, Precision: 0.5737,   Recall: 0.6322,   F1 Score: 0.5666,   F2 Score: 0.5915\n",
      "Default threshold for  Pre- Diabetes knn :\n"
     ]
    },
    {
     "name": "stderr",
     "output_type": "stream",
     "text": [
      "C:\\Users\\Francesca P\\anaconda3\\lib\\site-packages\\sklearn\\metrics\\_classification.py:1248: UndefinedMetricWarning: Precision is ill-defined and being set to 0.0 in labels with no predicted samples. Use `zero_division` parameter to control this behavior.\n",
      "  _warn_prf(average, modifier, msg_start, len(result))\n",
      "C:\\Users\\Francesca P\\anaconda3\\lib\\site-packages\\sklearn\\utils\\validation.py:70: FutureWarning: Pass beta=2 as keyword args. From version 1.0 (renaming of 0.25) passing these as positional arguments will result in an error\n",
      "  warnings.warn(f\"Pass {args_msg} as keyword args. From version \"\n"
     ]
    },
    {
     "name": "stdout",
     "output_type": "stream",
     "text": [
      "Accuracy: 0.9787, Precision: 0.4893,   Recall: 0.5000,   F1 Score: 0.4946,   F2 Score: 0.4978\n",
      "Default threshold for  Pre- Diabetes dt :\n",
      "Accuracy: 0.9312, Precision: 0.5028,   Recall: 0.5201,   F1 Score: 0.4698,   F2 Score: 0.4682\n"
     ]
    },
    {
     "name": "stderr",
     "output_type": "stream",
     "text": [
      "C:\\Users\\Francesca P\\anaconda3\\lib\\site-packages\\sklearn\\utils\\validation.py:70: FutureWarning: Pass beta=2 as keyword args. From version 1.0 (renaming of 0.25) passing these as positional arguments will result in an error\n",
      "  warnings.warn(f\"Pass {args_msg} as keyword args. From version \"\n"
     ]
    },
    {
     "name": "stdout",
     "output_type": "stream",
     "text": [
      "Default threshold for  Pre- Diabetes lr :\n",
      "Accuracy: 0.0215, Precision: 0.5107,   Recall: 0.5001,   F1 Score: 0.0211,   F2 Score: 0.0493\n"
     ]
    },
    {
     "name": "stderr",
     "output_type": "stream",
     "text": [
      "C:\\Users\\Francesca P\\anaconda3\\lib\\site-packages\\sklearn\\utils\\validation.py:70: FutureWarning: Pass beta=2 as keyword args. From version 1.0 (renaming of 0.25) passing these as positional arguments will result in an error\n",
      "  warnings.warn(f\"Pass {args_msg} as keyword args. From version \"\n"
     ]
    },
    {
     "name": "stdout",
     "output_type": "stream",
     "text": [
      "Default threshold for  Pre- Diabetes rf :\n"
     ]
    },
    {
     "name": "stderr",
     "output_type": "stream",
     "text": [
      "C:\\Users\\Francesca P\\anaconda3\\lib\\site-packages\\sklearn\\metrics\\_classification.py:1248: UndefinedMetricWarning: Precision is ill-defined and being set to 0.0 in labels with no predicted samples. Use `zero_division` parameter to control this behavior.\n",
      "  _warn_prf(average, modifier, msg_start, len(result))\n",
      "C:\\Users\\Francesca P\\anaconda3\\lib\\site-packages\\sklearn\\utils\\validation.py:70: FutureWarning: Pass beta=2 as keyword args. From version 1.0 (renaming of 0.25) passing these as positional arguments will result in an error\n",
      "  warnings.warn(f\"Pass {args_msg} as keyword args. From version \"\n"
     ]
    },
    {
     "name": "stdout",
     "output_type": "stream",
     "text": [
      "Accuracy: 0.9787, Precision: 0.4893,   Recall: 0.5000,   F1 Score: 0.4946,   F2 Score: 0.4978\n",
      "Default threshold for  Pre- Diabetes rf_ens :\n"
     ]
    },
    {
     "name": "stderr",
     "output_type": "stream",
     "text": [
      "C:\\Users\\Francesca P\\anaconda3\\lib\\site-packages\\sklearn\\metrics\\_classification.py:1248: UndefinedMetricWarning: Precision is ill-defined and being set to 0.0 in labels with no predicted samples. Use `zero_division` parameter to control this behavior.\n",
      "  _warn_prf(average, modifier, msg_start, len(result))\n",
      "C:\\Users\\Francesca P\\anaconda3\\lib\\site-packages\\sklearn\\utils\\validation.py:70: FutureWarning: Pass beta=2 as keyword args. From version 1.0 (renaming of 0.25) passing these as positional arguments will result in an error\n",
      "  warnings.warn(f\"Pass {args_msg} as keyword args. From version \"\n"
     ]
    },
    {
     "name": "stdout",
     "output_type": "stream",
     "text": [
      "Accuracy: 0.9787, Precision: 0.4893,   Recall: 0.5000,   F1 Score: 0.4946,   F2 Score: 0.4978\n",
      "Default threshold for  Pre- Diabetes et :\n",
      "Accuracy: 0.9787, Precision: 0.4893,   Recall: 0.5000,   F1 Score: 0.4946,   F2 Score: 0.4978\n"
     ]
    },
    {
     "name": "stderr",
     "output_type": "stream",
     "text": [
      "C:\\Users\\Francesca P\\anaconda3\\lib\\site-packages\\sklearn\\metrics\\_classification.py:1248: UndefinedMetricWarning: Precision is ill-defined and being set to 0.0 in labels with no predicted samples. Use `zero_division` parameter to control this behavior.\n",
      "  _warn_prf(average, modifier, msg_start, len(result))\n",
      "C:\\Users\\Francesca P\\anaconda3\\lib\\site-packages\\sklearn\\utils\\validation.py:70: FutureWarning: Pass beta=2 as keyword args. From version 1.0 (renaming of 0.25) passing these as positional arguments will result in an error\n",
      "  warnings.warn(f\"Pass {args_msg} as keyword args. From version \"\n"
     ]
    }
   ],
   "source": [
    "quick_scoring(model_scoring_list)"
   ]
  },
  {
   "cell_type": "markdown",
   "metadata": {},
   "source": [
    "# ROC/AUC Curve"
   ]
  },
  {
   "cell_type": "markdown",
   "metadata": {},
   "source": [
    "### Predictions for ROC/AUC Curve"
   ]
  },
  {
   "cell_type": "markdown",
   "metadata": {},
   "source": [
    "#### Non-Diabetic vs Full Diabetes Prediction Arrays"
   ]
  },
  {
   "cell_type": "code",
   "execution_count": 54,
   "metadata": {},
   "outputs": [],
   "source": [
    "yf_knn_predict_proba = knn_f.predict_proba(Xf_test)[:,1] #gives back one column of positive/negative\n",
    "yf_dt_predict_proba = dt_f.predict_proba(Xf_test)[:,1] #use for ROC/AUC\n",
    "yf_lr_predict_proba = lr_f.predict_proba(Xf_test)[:,1]\n",
    "yf_rf_predict_proba = rf_f.predict_proba(Xf_test)[:,1]\n",
    "yf_rf_ens_predict_proba = rf_ens_f.predict_proba(Xf_test)[:,1]\n",
    "yf_et_predict_proba = et_f.predict_proba(Xf_test)[:,1]"
   ]
  },
  {
   "cell_type": "markdown",
   "metadata": {},
   "source": [
    "#### Non-Diabetic vs Pre-Diabetic Prediction Arrays"
   ]
  },
  {
   "cell_type": "code",
   "execution_count": 55,
   "metadata": {},
   "outputs": [],
   "source": [
    "yp_knn_predict_proba = knn_p.predict_proba(Xp_test)[:,1]\n",
    "yp_dt_predict_proba = dt_p.predict_proba(Xp_test)[:,1]\n",
    "yp_lr_predict_proba = lr_p.predict_proba(Xp_test)[:,1]\n",
    "yp_rf_predict_proba = rf_p.predict_proba(Xp_test)[:,1]\n",
    "yp_rf_ens_predict_proba = rf_ens_p.predict_proba(Xp_test)[:,1]\n",
    "yp_et_predict_proba = et_p.predict_proba(Xp_test)[:,1]"
   ]
  },
  {
   "cell_type": "markdown",
   "metadata": {},
   "source": [
    "## ROC Curve Function"
   ]
  },
  {
   "cell_type": "code",
   "execution_count": 56,
   "metadata": {},
   "outputs": [],
   "source": [
    "from matplotlib.pyplot import figure"
   ]
  },
  {
   "cell_type": "code",
   "execution_count": 57,
   "metadata": {},
   "outputs": [],
   "source": [
    "def roc_curve_subplots(model_list,test_var):\n",
    "    count = 1\n",
    "    for model in model_list:\n",
    "        curr_name,curr_type, curr_model = model\n",
    "        fpr2, tpr2, thresholds2 = roc_curve(test_var,curr_model)\n",
    "        figure(figsize=(15,10))\n",
    "        plt.subplot(3,2,count)\n",
    "        plt.plot(fpr2, tpr2,lw=2)\n",
    "        plt.plot([0,1],[0,1],c='violet',ls='--')\n",
    "        plt.xlim([-0.05,1.05])\n",
    "        plt.ylim([-0.05,1.05])\n",
    "\n",
    "        plt.xlabel('False positive rate')\n",
    "        plt.ylabel('True positive rate')\n",
    "        plt.title('ROC curve for ' + curr_type + 'diabetes detection ' + curr_name)\n",
    "        plt.subplots_adjust(left=0.1,\n",
    "                    bottom=0.1, \n",
    "                    right=0.9, \n",
    "                    top=0.9, \n",
    "                    wspace=0.4, \n",
    "                    hspace=0.4);\n",
    "        print(\"ROC AUC score for\",curr_type,curr_name,\"= \", roc_auc_score(test_var, curr_model))\n",
    "        count+=1"
   ]
  },
  {
   "cell_type": "code",
   "execution_count": 58,
   "metadata": {},
   "outputs": [],
   "source": [
    "fullnone_prediction_list = [(\"knn_predict\",\"Full\",yf_knn_predict_proba),(\"dt_predict\",\"Full\",yf_dt_predict_proba),(\"lr_predict\",\"Full\",yf_lr_predict_proba),(\"rf_predict\",\"Full\",yf_rf_predict_proba),\n",
    "                           (\"rf_ens_predict\",\"Full\",yf_rf_ens_predict_proba),(\"rf_et_predict\",\"Full\",yf_et_predict_proba)]\n",
    "prenone_prediction_list = [(\"knn_predict\",\"Pre-\",yp_knn_predict_proba),(\"dt_predict\",\"Pre-\",yp_dt_predict_proba),(\"lr_predict\",\"Pre-\",yp_lr_predict_proba),(\"rf_predict\",\"Pre-\",yp_rf_predict_proba),\n",
    "                           (\"rf_ens_predict\",\"Pre-\",yp_rf_ens_predict_proba),(\"rf_et_predict\",\"Pre-\",yp_et_predict_proba)]"
   ]
  },
  {
   "cell_type": "markdown",
   "metadata": {},
   "source": [
    "### Results for Full-Diabetic vs Non"
   ]
  },
  {
   "cell_type": "code",
   "execution_count": 61,
   "metadata": {
    "scrolled": false
   },
   "outputs": [
    {
     "name": "stdout",
     "output_type": "stream",
     "text": [
      "ROC AUC score for Full knn_predict =  0.5858874084826395\n",
      "ROC AUC score for Full dt_predict =  0.40171708601860473\n",
      "ROC AUC score for Full lr_predict =  0.7718053792061401\n",
      "ROC AUC score for Full rf_predict =  0.7065757817028933\n",
      "ROC AUC score for Full rf_ens_predict =  0.6161473406041296\n",
      "ROC AUC score for Full rf_et_predict =  0.7049223337176131\n"
     ]
    },
    {
     "data": {
      "image/png": "[encoded data removed]",
      "text/plain": [
       "<Figure size 1080x720 with 1 Axes>"
      ]
     },
     "metadata": {
      "needs_background": "light"
     },
     "output_type": "display_data"
    },
    {
     "data": {
      "image/png": "[encoded data removed]",
      "text/plain": [
       "<Figure size 1080x720 with 1 Axes>"
      ]
     },
     "metadata": {
      "needs_background": "light"
     },
     "output_type": "display_data"
    },
    {
     "data": {
      "image/png": "[encoded data removed]",
      "text/plain": [
       "<Figure size 1080x720 with 1 Axes>"
      ]
     },
     "metadata": {
      "needs_background": "light"
     },
     "output_type": "display_data"
    },
    {
     "data": {
      "image/png": "[encoded data removed]",
      "text/plain": [
       "<Figure size 1080x720 with 1 Axes>"
      ]
     },
     "metadata": {
      "needs_background": "light"
     },
     "output_type": "display_data"
    },
    {
     "data": {
      "image/png": "[encoded data removed]",
      "text/plain": [
       "<Figure size 1080x720 with 1 Axes>"
      ]
     },
     "metadata": {
      "needs_background": "light"
     },
     "output_type": "display_data"
    },
    {
     "data": {
      "image/png": "[encoded data removed]",
      "text/plain": [
       "<Figure size 1080x720 with 1 Axes>"
      ]
     },
     "metadata": {
      "needs_background": "light"
     },
     "output_type": "display_data"
    }
   ],
   "source": [
    "roc_curve_subplots(fullnone_prediction_list,yf_test)"
   ]
  },
  {
   "cell_type": "markdown",
   "metadata": {},
   "source": [
    "### Results for Pre-Diabetic vs Non"
   ]
  },
  {
   "cell_type": "code",
   "execution_count": 60,
   "metadata": {},
   "outputs": [
    {
     "name": "stdout",
     "output_type": "stream",
     "text": [
      "ROC AUC score for Pre- knn_predict =  0.4662107580930252\n",
      "ROC AUC score for Pre- dt_predict =  0.5222527744322069\n",
      "ROC AUC score for Pre- lr_predict =  0.7127346040484693\n",
      "ROC AUC score for Pre- rf_predict =  0.4536578537532039\n",
      "ROC AUC score for Pre- rf_ens_predict =  0.4901180251373432\n",
      "ROC AUC score for Pre- rf_et_predict =  0.44651981430903953\n"
     ]
    },
    {
     "data": {
      "image/png": "[encoded data removed]",
      "text/plain": [
       "<Figure size 1080x720 with 1 Axes>"
      ]
     },
     "metadata": {
      "needs_background": "light"
     },
     "output_type": "display_data"
    },
    {
     "data": {
      "image/png": "[encoded data removed]",
      "text/plain": [
       "<Figure size 1080x720 with 1 Axes>"
      ]
     },
     "metadata": {
      "needs_background": "light"
     },
     "output_type": "display_data"
    },
    {
     "data": {
      "image/png": "[encoded data removed]",
      "text/plain": [
       "<Figure size 1080x720 with 1 Axes>"
      ]
     },
     "metadata": {
      "needs_background": "light"
     },
     "output_type": "display_data"
    },
    {
     "data": {
      "image/png": "[encoded data removed]",
      "text/plain": [
       "<Figure size 1080x720 with 1 Axes>"
      ]
     },
     "metadata": {
      "needs_background": "light"
     },
     "output_type": "display_data"
    },
    {
     "data": {
      "image/png": "[encoded data removed]",
      "text/plain": [
       "<Figure size 1080x720 with 1 Axes>"
      ]
     },
     "metadata": {
      "needs_background": "light"
     },
     "output_type": "display_data"
    },
    {
     "data": {
      "image/png": "[encoded data removed]",
      "text/plain": [
       "<Figure size 1080x720 with 1 Axes>"
      ]
     },
     "metadata": {
      "needs_background": "light"
     },
     "output_type": "display_data"
    }
   ],
   "source": [
    "roc_curve_subplots(prenone_prediction_list,yp_test)"
   ]
  },
  {
   "cell_type": "code",
   "execution_count": null,
   "metadata": {},
   "outputs": [],
   "source": []
  },
  {
   "cell_type": "code",
   "execution_count": null,
   "metadata": {},
   "outputs": [],
   "source": []
  },
  {
   "cell_type": "code",
   "execution_count": null,
   "metadata": {},
   "outputs": [],
   "source": []
  }
 ],
 "metadata": {
  "kernelspec": {
   "display_name": "Python 3 (ipykernel)",
   "language": "python",
   "name": "python3"
  },
  "language_info": {
   "codemirror_mode": {
    "name": "ipython",
    "version": 3
   },
   "file_extension": ".py",
   "mimetype": "text/x-python",
   "name": "python",
   "nbconvert_exporter": "python",
   "pygments_lexer": "ipython3",
   "version": "3.9.7"
  }
 },
 "nbformat": 4,
 "nbformat_minor": 4
}
